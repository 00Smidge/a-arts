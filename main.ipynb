{
 "cells": [
  {
   "cell_type": "code",
   "execution_count": null,
   "metadata": {},
   "outputs": [],
   "source": [
    "\"\"\"\n",
    "  Imports\n",
    "\"\"\"\n",
    "from services.services import fetch_data"
   ]
  },
  {
   "cell_type": "markdown",
   "metadata": {},
   "source": []
  },
  {
   "cell_type": "code",
   "execution_count": null,
   "metadata": {},
   "outputs": [],
   "source": [
    "result = fetch_data()"
   ]
  },
  {
   "cell_type": "code",
   "execution_count": null,
   "metadata": {},
   "outputs": [],
   "source": [
    "import requests\n",
    "\n",
    "params = {\n",
    "  'access_key': 'b5c2f56a77958a163ae64d3009b8af15'\n",
    "}\n",
    "\n",
    "api_result = requests.get('https://api.aviationstack.com/v1/flights', params)\n",
    "\n",
    "api_response = api_result.json()\n",
    "\n",
    "for flight in api_response['results']:\n",
    "    if (flight['live']['is_ground'] is False):\n",
    "        print(u'%s flight %s from %s (%s) to %s (%s) is in the air.' % (\n",
    "            flight['airline']['name'],\n",
    "            flight['flight']['iata'],\n",
    "            flight['departure']['airport'],\n",
    "            flight['departure']['iata'],\n",
    "            flight['arrival']['airport'],\n",
    "            flight['arrival']['iata']))"
   ]
  }
 ],
 "metadata": {
  "language_info": {
   "name": "python"
  }
 },
 "nbformat": 4,
 "nbformat_minor": 2
}
